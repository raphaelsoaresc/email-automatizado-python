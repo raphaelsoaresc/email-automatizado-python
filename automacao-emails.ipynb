{
 "cells": [
  {
   "attachments": {},
   "cell_type": "markdown",
   "id": "2d3b3f42",
   "metadata": {},
   "source": [
    "# Passo 1: Importando os modulos necessários"
   ]
  },
  {
   "cell_type": "code",
   "execution_count": 2,
   "id": "94ec6db7",
   "metadata": {},
   "outputs": [],
   "source": [
    "import pandas as pd\n",
    "import datetime\n",
    "import yfinance as yf\n",
    "from matplotlib import pyplot as plt\n",
    "import mplcyberpunk\n",
    "import smtplib\n",
    "from email.message import EmailMessage"
   ]
  },
  {
   "attachments": {},
   "cell_type": "markdown",
   "id": "24372e2a",
   "metadata": {},
   "source": [
    "# Passo 2: Pegar dados no Yahoo Finance"
   ]
  },
  {
   "cell_type": "code",
   "execution_count": 7,
   "id": "f7ad8a2d",
   "metadata": {},
   "outputs": [
    {
     "name": "stdout",
     "output_type": "stream",
     "text": [
      "[*********************100%***********************]  2 of 2 completed\n"
     ]
    },
    {
     "data": {
      "text/html": [
       "<div>\n",
       "<style scoped>\n",
       "    .dataframe tbody tr th:only-of-type {\n",
       "        vertical-align: middle;\n",
       "    }\n",
       "\n",
       "    .dataframe tbody tr th {\n",
       "        vertical-align: top;\n",
       "    }\n",
       "\n",
       "    .dataframe thead tr th {\n",
       "        text-align: left;\n",
       "    }\n",
       "\n",
       "    .dataframe thead tr:last-of-type th {\n",
       "        text-align: right;\n",
       "    }\n",
       "</style>\n",
       "<table border=\"1\" class=\"dataframe\">\n",
       "  <thead>\n",
       "    <tr>\n",
       "      <th></th>\n",
       "      <th colspan=\"2\" halign=\"left\">Adj Close</th>\n",
       "      <th colspan=\"2\" halign=\"left\">Close</th>\n",
       "      <th colspan=\"2\" halign=\"left\">High</th>\n",
       "      <th colspan=\"2\" halign=\"left\">Low</th>\n",
       "      <th colspan=\"2\" halign=\"left\">Open</th>\n",
       "      <th colspan=\"2\" halign=\"left\">Volume</th>\n",
       "    </tr>\n",
       "    <tr>\n",
       "      <th></th>\n",
       "      <th>BRL=X</th>\n",
       "      <th>^BVSP</th>\n",
       "      <th>BRL=X</th>\n",
       "      <th>^BVSP</th>\n",
       "      <th>BRL=X</th>\n",
       "      <th>^BVSP</th>\n",
       "      <th>BRL=X</th>\n",
       "      <th>^BVSP</th>\n",
       "      <th>BRL=X</th>\n",
       "      <th>^BVSP</th>\n",
       "      <th>BRL=X</th>\n",
       "      <th>^BVSP</th>\n",
       "    </tr>\n",
       "    <tr>\n",
       "      <th>Date</th>\n",
       "      <th></th>\n",
       "      <th></th>\n",
       "      <th></th>\n",
       "      <th></th>\n",
       "      <th></th>\n",
       "      <th></th>\n",
       "      <th></th>\n",
       "      <th></th>\n",
       "      <th></th>\n",
       "      <th></th>\n",
       "      <th></th>\n",
       "      <th></th>\n",
       "    </tr>\n",
       "  </thead>\n",
       "  <tbody>\n",
       "    <tr>\n",
       "      <th>2022-04-04</th>\n",
       "      <td>4.6572</td>\n",
       "      <td>121280.0</td>\n",
       "      <td>4.6572</td>\n",
       "      <td>121280.0</td>\n",
       "      <td>4.670100</td>\n",
       "      <td>121570.0</td>\n",
       "      <td>4.604057</td>\n",
       "      <td>120754.0</td>\n",
       "      <td>4.6572</td>\n",
       "      <td>121569.0</td>\n",
       "      <td>0</td>\n",
       "      <td>8812500.0</td>\n",
       "    </tr>\n",
       "    <tr>\n",
       "      <th>2022-04-05</th>\n",
       "      <td>4.5938</td>\n",
       "      <td>118885.0</td>\n",
       "      <td>4.5938</td>\n",
       "      <td>118885.0</td>\n",
       "      <td>4.669100</td>\n",
       "      <td>121628.0</td>\n",
       "      <td>4.575500</td>\n",
       "      <td>118794.0</td>\n",
       "      <td>4.5938</td>\n",
       "      <td>121279.0</td>\n",
       "      <td>0</td>\n",
       "      <td>11788300.0</td>\n",
       "    </tr>\n",
       "    <tr>\n",
       "      <th>2022-04-06</th>\n",
       "      <td>4.6507</td>\n",
       "      <td>118228.0</td>\n",
       "      <td>4.6507</td>\n",
       "      <td>118228.0</td>\n",
       "      <td>4.712600</td>\n",
       "      <td>118885.0</td>\n",
       "      <td>4.647900</td>\n",
       "      <td>116791.0</td>\n",
       "      <td>4.6507</td>\n",
       "      <td>118885.0</td>\n",
       "      <td>0</td>\n",
       "      <td>13410800.0</td>\n",
       "    </tr>\n",
       "    <tr>\n",
       "      <th>2022-04-07</th>\n",
       "      <td>4.7152</td>\n",
       "      <td>118862.0</td>\n",
       "      <td>4.7152</td>\n",
       "      <td>118862.0</td>\n",
       "      <td>4.769900</td>\n",
       "      <td>119247.0</td>\n",
       "      <td>4.690400</td>\n",
       "      <td>117509.0</td>\n",
       "      <td>4.7152</td>\n",
       "      <td>118226.0</td>\n",
       "      <td>0</td>\n",
       "      <td>11520100.0</td>\n",
       "    </tr>\n",
       "    <tr>\n",
       "      <th>2022-04-08</th>\n",
       "      <td>4.7521</td>\n",
       "      <td>118322.0</td>\n",
       "      <td>4.7521</td>\n",
       "      <td>118322.0</td>\n",
       "      <td>4.791300</td>\n",
       "      <td>118868.0</td>\n",
       "      <td>4.707518</td>\n",
       "      <td>117487.0</td>\n",
       "      <td>4.7521</td>\n",
       "      <td>118861.0</td>\n",
       "      <td>0</td>\n",
       "      <td>11225800.0</td>\n",
       "    </tr>\n",
       "    <tr>\n",
       "      <th>...</th>\n",
       "      <td>...</td>\n",
       "      <td>...</td>\n",
       "      <td>...</td>\n",
       "      <td>...</td>\n",
       "      <td>...</td>\n",
       "      <td>...</td>\n",
       "      <td>...</td>\n",
       "      <td>...</td>\n",
       "      <td>...</td>\n",
       "      <td>...</td>\n",
       "      <td>...</td>\n",
       "      <td>...</td>\n",
       "    </tr>\n",
       "    <tr>\n",
       "      <th>2023-03-28</th>\n",
       "      <td>5.1971</td>\n",
       "      <td>101185.0</td>\n",
       "      <td>5.1971</td>\n",
       "      <td>101185.0</td>\n",
       "      <td>5.197700</td>\n",
       "      <td>101559.0</td>\n",
       "      <td>5.147900</td>\n",
       "      <td>99488.0</td>\n",
       "      <td>5.1971</td>\n",
       "      <td>99672.0</td>\n",
       "      <td>0</td>\n",
       "      <td>13500100.0</td>\n",
       "    </tr>\n",
       "    <tr>\n",
       "      <th>2023-03-29</th>\n",
       "      <td>5.1644</td>\n",
       "      <td>101793.0</td>\n",
       "      <td>5.1644</td>\n",
       "      <td>101793.0</td>\n",
       "      <td>5.182300</td>\n",
       "      <td>102213.0</td>\n",
       "      <td>5.131730</td>\n",
       "      <td>100248.0</td>\n",
       "      <td>5.1644</td>\n",
       "      <td>101185.0</td>\n",
       "      <td>0</td>\n",
       "      <td>12456100.0</td>\n",
       "    </tr>\n",
       "    <tr>\n",
       "      <th>2023-03-30</th>\n",
       "      <td>5.1342</td>\n",
       "      <td>103713.0</td>\n",
       "      <td>5.1342</td>\n",
       "      <td>103713.0</td>\n",
       "      <td>5.155928</td>\n",
       "      <td>104085.0</td>\n",
       "      <td>5.077300</td>\n",
       "      <td>101796.0</td>\n",
       "      <td>5.1342</td>\n",
       "      <td>101796.0</td>\n",
       "      <td>0</td>\n",
       "      <td>14901600.0</td>\n",
       "    </tr>\n",
       "    <tr>\n",
       "      <th>2023-03-31</th>\n",
       "      <td>5.0927</td>\n",
       "      <td>101882.0</td>\n",
       "      <td>5.0927</td>\n",
       "      <td>101882.0</td>\n",
       "      <td>5.103300</td>\n",
       "      <td>104041.0</td>\n",
       "      <td>5.055200</td>\n",
       "      <td>101476.0</td>\n",
       "      <td>5.0927</td>\n",
       "      <td>103714.0</td>\n",
       "      <td>0</td>\n",
       "      <td>15111200.0</td>\n",
       "    </tr>\n",
       "    <tr>\n",
       "      <th>2023-04-03</th>\n",
       "      <td>5.0623</td>\n",
       "      <td>101506.0</td>\n",
       "      <td>5.0623</td>\n",
       "      <td>101506.0</td>\n",
       "      <td>5.075500</td>\n",
       "      <td>101916.0</td>\n",
       "      <td>5.036216</td>\n",
       "      <td>100651.0</td>\n",
       "      <td>5.0623</td>\n",
       "      <td>101883.0</td>\n",
       "      <td>0</td>\n",
       "      <td>12794800.0</td>\n",
       "    </tr>\n",
       "  </tbody>\n",
       "</table>\n",
       "<p>261 rows × 12 columns</p>\n",
       "</div>"
      ],
      "text/plain": [
       "           Adj Close             Close                High             \n",
       "               BRL=X     ^BVSP   BRL=X     ^BVSP     BRL=X     ^BVSP   \n",
       "Date                                                                   \n",
       "2022-04-04    4.6572  121280.0  4.6572  121280.0  4.670100  121570.0  \\\n",
       "2022-04-05    4.5938  118885.0  4.5938  118885.0  4.669100  121628.0   \n",
       "2022-04-06    4.6507  118228.0  4.6507  118228.0  4.712600  118885.0   \n",
       "2022-04-07    4.7152  118862.0  4.7152  118862.0  4.769900  119247.0   \n",
       "2022-04-08    4.7521  118322.0  4.7521  118322.0  4.791300  118868.0   \n",
       "...              ...       ...     ...       ...       ...       ...   \n",
       "2023-03-28    5.1971  101185.0  5.1971  101185.0  5.197700  101559.0   \n",
       "2023-03-29    5.1644  101793.0  5.1644  101793.0  5.182300  102213.0   \n",
       "2023-03-30    5.1342  103713.0  5.1342  103713.0  5.155928  104085.0   \n",
       "2023-03-31    5.0927  101882.0  5.0927  101882.0  5.103300  104041.0   \n",
       "2023-04-03    5.0623  101506.0  5.0623  101506.0  5.075500  101916.0   \n",
       "\n",
       "                 Low              Open           Volume              \n",
       "               BRL=X     ^BVSP   BRL=X     ^BVSP  BRL=X       ^BVSP  \n",
       "Date                                                                 \n",
       "2022-04-04  4.604057  120754.0  4.6572  121569.0      0   8812500.0  \n",
       "2022-04-05  4.575500  118794.0  4.5938  121279.0      0  11788300.0  \n",
       "2022-04-06  4.647900  116791.0  4.6507  118885.0      0  13410800.0  \n",
       "2022-04-07  4.690400  117509.0  4.7152  118226.0      0  11520100.0  \n",
       "2022-04-08  4.707518  117487.0  4.7521  118861.0      0  11225800.0  \n",
       "...              ...       ...     ...       ...    ...         ...  \n",
       "2023-03-28  5.147900   99488.0  5.1971   99672.0      0  13500100.0  \n",
       "2023-03-29  5.131730  100248.0  5.1644  101185.0      0  12456100.0  \n",
       "2023-03-30  5.077300  101796.0  5.1342  101796.0      0  14901600.0  \n",
       "2023-03-31  5.055200  101476.0  5.0927  103714.0      0  15111200.0  \n",
       "2023-04-03  5.036216  100651.0  5.0623  101883.0      0  12794800.0  \n",
       "\n",
       "[261 rows x 12 columns]"
      ]
     },
     "metadata": {},
     "output_type": "display_data"
    }
   ],
   "source": [
    "ativos = ['^BVSP', 'BRL=X']\n",
    "\n",
    "hoje = datetime.datetime.now()\n",
    "um_ano_atras = hoje - datetime.timedelta(days = 365)\n",
    "\n",
    "dados_mercado = yf.download(ativos, um_ano_atras, hoje)\n",
    "\n",
    "\n",
    "display(dados_mercado)"
   ]
  },
  {
   "attachments": {},
   "cell_type": "markdown",
   "id": "755ac198",
   "metadata": {},
   "source": [
    "# Passo 3.1: Manipulando os dados - seleção e exclusão de dados"
   ]
  },
  {
   "cell_type": "code",
   "execution_count": 8,
   "id": "1ceccf0b",
   "metadata": {},
   "outputs": [
    {
     "data": {
      "text/html": [
       "<div>\n",
       "<style scoped>\n",
       "    .dataframe tbody tr th:only-of-type {\n",
       "        vertical-align: middle;\n",
       "    }\n",
       "\n",
       "    .dataframe tbody tr th {\n",
       "        vertical-align: top;\n",
       "    }\n",
       "\n",
       "    .dataframe thead th {\n",
       "        text-align: right;\n",
       "    }\n",
       "</style>\n",
       "<table border=\"1\" class=\"dataframe\">\n",
       "  <thead>\n",
       "    <tr style=\"text-align: right;\">\n",
       "      <th></th>\n",
       "      <th>Dólar</th>\n",
       "      <th>Ibovespa</th>\n",
       "    </tr>\n",
       "    <tr>\n",
       "      <th>Date</th>\n",
       "      <th></th>\n",
       "      <th></th>\n",
       "    </tr>\n",
       "  </thead>\n",
       "  <tbody>\n",
       "    <tr>\n",
       "      <th>2022-04-04</th>\n",
       "      <td>4.6572</td>\n",
       "      <td>121280.0</td>\n",
       "    </tr>\n",
       "    <tr>\n",
       "      <th>2022-04-05</th>\n",
       "      <td>4.5938</td>\n",
       "      <td>118885.0</td>\n",
       "    </tr>\n",
       "    <tr>\n",
       "      <th>2022-04-06</th>\n",
       "      <td>4.6507</td>\n",
       "      <td>118228.0</td>\n",
       "    </tr>\n",
       "    <tr>\n",
       "      <th>2022-04-07</th>\n",
       "      <td>4.7152</td>\n",
       "      <td>118862.0</td>\n",
       "    </tr>\n",
       "    <tr>\n",
       "      <th>2022-04-08</th>\n",
       "      <td>4.7521</td>\n",
       "      <td>118322.0</td>\n",
       "    </tr>\n",
       "    <tr>\n",
       "      <th>...</th>\n",
       "      <td>...</td>\n",
       "      <td>...</td>\n",
       "    </tr>\n",
       "    <tr>\n",
       "      <th>2023-03-28</th>\n",
       "      <td>5.1971</td>\n",
       "      <td>101185.0</td>\n",
       "    </tr>\n",
       "    <tr>\n",
       "      <th>2023-03-29</th>\n",
       "      <td>5.1644</td>\n",
       "      <td>101793.0</td>\n",
       "    </tr>\n",
       "    <tr>\n",
       "      <th>2023-03-30</th>\n",
       "      <td>5.1342</td>\n",
       "      <td>103713.0</td>\n",
       "    </tr>\n",
       "    <tr>\n",
       "      <th>2023-03-31</th>\n",
       "      <td>5.0927</td>\n",
       "      <td>101882.0</td>\n",
       "    </tr>\n",
       "    <tr>\n",
       "      <th>2023-04-03</th>\n",
       "      <td>5.0623</td>\n",
       "      <td>101506.0</td>\n",
       "    </tr>\n",
       "  </tbody>\n",
       "</table>\n",
       "<p>251 rows × 2 columns</p>\n",
       "</div>"
      ],
      "text/plain": [
       "             Dólar  Ibovespa\n",
       "Date                        \n",
       "2022-04-04  4.6572  121280.0\n",
       "2022-04-05  4.5938  118885.0\n",
       "2022-04-06  4.6507  118228.0\n",
       "2022-04-07  4.7152  118862.0\n",
       "2022-04-08  4.7521  118322.0\n",
       "...            ...       ...\n",
       "2023-03-28  5.1971  101185.0\n",
       "2023-03-29  5.1644  101793.0\n",
       "2023-03-30  5.1342  103713.0\n",
       "2023-03-31  5.0927  101882.0\n",
       "2023-04-03  5.0623  101506.0\n",
       "\n",
       "[251 rows x 2 columns]"
      ]
     },
     "execution_count": 8,
     "metadata": {},
     "output_type": "execute_result"
    }
   ],
   "source": [
    "dados_fechamento = dados_mercado['Adj Close']\n",
    "dados_fechamento.columns = ['Dólar', 'Ibovespa']\n",
    "\n",
    "dados_fechamento = dados_fechamento.dropna()\n",
    "\n",
    "dados_fechamento"
   ]
  },
  {
   "attachments": {},
   "cell_type": "markdown",
   "id": "31881aa5",
   "metadata": {},
   "source": [
    "# Passo 3.2: Manipulando os dados - Criando tabelas com outros timeframes"
   ]
  },
  {
   "cell_type": "code",
   "execution_count": 9,
   "id": "4c781c15",
   "metadata": {
    "scrolled": true
   },
   "outputs": [
    {
     "data": {
      "text/html": [
       "<div>\n",
       "<style scoped>\n",
       "    .dataframe tbody tr th:only-of-type {\n",
       "        vertical-align: middle;\n",
       "    }\n",
       "\n",
       "    .dataframe tbody tr th {\n",
       "        vertical-align: top;\n",
       "    }\n",
       "\n",
       "    .dataframe thead th {\n",
       "        text-align: right;\n",
       "    }\n",
       "</style>\n",
       "<table border=\"1\" class=\"dataframe\">\n",
       "  <thead>\n",
       "    <tr style=\"text-align: right;\">\n",
       "      <th></th>\n",
       "      <th>Dólar</th>\n",
       "      <th>Ibovespa</th>\n",
       "    </tr>\n",
       "    <tr>\n",
       "      <th>Date</th>\n",
       "      <th></th>\n",
       "      <th></th>\n",
       "    </tr>\n",
       "  </thead>\n",
       "  <tbody>\n",
       "    <tr>\n",
       "      <th>2022-04-04</th>\n",
       "      <td>4.6572</td>\n",
       "      <td>121280.0</td>\n",
       "    </tr>\n",
       "    <tr>\n",
       "      <th>2022-04-05</th>\n",
       "      <td>4.5938</td>\n",
       "      <td>118885.0</td>\n",
       "    </tr>\n",
       "    <tr>\n",
       "      <th>2022-04-06</th>\n",
       "      <td>4.6507</td>\n",
       "      <td>118228.0</td>\n",
       "    </tr>\n",
       "    <tr>\n",
       "      <th>2022-04-07</th>\n",
       "      <td>4.7152</td>\n",
       "      <td>118862.0</td>\n",
       "    </tr>\n",
       "    <tr>\n",
       "      <th>2022-04-08</th>\n",
       "      <td>4.7521</td>\n",
       "      <td>118322.0</td>\n",
       "    </tr>\n",
       "    <tr>\n",
       "      <th>...</th>\n",
       "      <td>...</td>\n",
       "      <td>...</td>\n",
       "    </tr>\n",
       "    <tr>\n",
       "      <th>2023-03-30</th>\n",
       "      <td>5.1342</td>\n",
       "      <td>103713.0</td>\n",
       "    </tr>\n",
       "    <tr>\n",
       "      <th>2023-03-31</th>\n",
       "      <td>5.0927</td>\n",
       "      <td>101882.0</td>\n",
       "    </tr>\n",
       "    <tr>\n",
       "      <th>2023-04-01</th>\n",
       "      <td>NaN</td>\n",
       "      <td>NaN</td>\n",
       "    </tr>\n",
       "    <tr>\n",
       "      <th>2023-04-02</th>\n",
       "      <td>NaN</td>\n",
       "      <td>NaN</td>\n",
       "    </tr>\n",
       "    <tr>\n",
       "      <th>2023-04-03</th>\n",
       "      <td>5.0623</td>\n",
       "      <td>101506.0</td>\n",
       "    </tr>\n",
       "  </tbody>\n",
       "</table>\n",
       "<p>365 rows × 2 columns</p>\n",
       "</div>"
      ],
      "text/plain": [
       "             Dólar  Ibovespa\n",
       "Date                        \n",
       "2022-04-04  4.6572  121280.0\n",
       "2022-04-05  4.5938  118885.0\n",
       "2022-04-06  4.6507  118228.0\n",
       "2022-04-07  4.7152  118862.0\n",
       "2022-04-08  4.7521  118322.0\n",
       "...            ...       ...\n",
       "2023-03-30  5.1342  103713.0\n",
       "2023-03-31  5.0927  101882.0\n",
       "2023-04-01     NaN       NaN\n",
       "2023-04-02     NaN       NaN\n",
       "2023-04-03  5.0623  101506.0\n",
       "\n",
       "[365 rows x 2 columns]"
      ]
     },
     "execution_count": 9,
     "metadata": {},
     "output_type": "execute_result"
    }
   ],
   "source": [
    "dados_fechamento_mensal = dados_fechamento.resample('M').last()\n",
    "dados_fechamento_anual = dados_fechamento.resample('Y').last()\n",
    "dados_fechamento_diario = dados_fechamento.resample('D').last()\n",
    "dados_fechamento_diario\n"
   ]
  },
  {
   "attachments": {},
   "cell_type": "markdown",
   "id": "44459282",
   "metadata": {},
   "source": [
    "# Passo 4: Calcular fechamento do dia, retorno no ano e retorno no mês dos ativos."
   ]
  },
  {
   "cell_type": "code",
   "execution_count": 10,
   "id": "d774afea",
   "metadata": {
    "scrolled": true
   },
   "outputs": [
    {
     "data": {
      "text/html": [
       "<div>\n",
       "<style scoped>\n",
       "    .dataframe tbody tr th:only-of-type {\n",
       "        vertical-align: middle;\n",
       "    }\n",
       "\n",
       "    .dataframe tbody tr th {\n",
       "        vertical-align: top;\n",
       "    }\n",
       "\n",
       "    .dataframe thead th {\n",
       "        text-align: right;\n",
       "    }\n",
       "</style>\n",
       "<table border=\"1\" class=\"dataframe\">\n",
       "  <thead>\n",
       "    <tr style=\"text-align: right;\">\n",
       "      <th></th>\n",
       "      <th>Dólar</th>\n",
       "      <th>Ibovespa</th>\n",
       "    </tr>\n",
       "    <tr>\n",
       "      <th>Date</th>\n",
       "      <th></th>\n",
       "      <th></th>\n",
       "    </tr>\n",
       "  </thead>\n",
       "  <tbody>\n",
       "    <tr>\n",
       "      <th>2022-04-05</th>\n",
       "      <td>-0.013613</td>\n",
       "      <td>-0.019748</td>\n",
       "    </tr>\n",
       "    <tr>\n",
       "      <th>2022-04-06</th>\n",
       "      <td>0.012386</td>\n",
       "      <td>-0.005526</td>\n",
       "    </tr>\n",
       "    <tr>\n",
       "      <th>2022-04-07</th>\n",
       "      <td>0.013869</td>\n",
       "      <td>0.005363</td>\n",
       "    </tr>\n",
       "    <tr>\n",
       "      <th>2022-04-08</th>\n",
       "      <td>0.007826</td>\n",
       "      <td>-0.004543</td>\n",
       "    </tr>\n",
       "    <tr>\n",
       "      <th>2022-04-09</th>\n",
       "      <td>0.000000</td>\n",
       "      <td>0.000000</td>\n",
       "    </tr>\n",
       "    <tr>\n",
       "      <th>...</th>\n",
       "      <td>...</td>\n",
       "      <td>...</td>\n",
       "    </tr>\n",
       "    <tr>\n",
       "      <th>2023-03-30</th>\n",
       "      <td>-0.005848</td>\n",
       "      <td>0.018862</td>\n",
       "    </tr>\n",
       "    <tr>\n",
       "      <th>2023-03-31</th>\n",
       "      <td>-0.008083</td>\n",
       "      <td>-0.017654</td>\n",
       "    </tr>\n",
       "    <tr>\n",
       "      <th>2023-04-01</th>\n",
       "      <td>0.000000</td>\n",
       "      <td>0.000000</td>\n",
       "    </tr>\n",
       "    <tr>\n",
       "      <th>2023-04-02</th>\n",
       "      <td>0.000000</td>\n",
       "      <td>0.000000</td>\n",
       "    </tr>\n",
       "    <tr>\n",
       "      <th>2023-04-03</th>\n",
       "      <td>-0.005969</td>\n",
       "      <td>-0.003691</td>\n",
       "    </tr>\n",
       "  </tbody>\n",
       "</table>\n",
       "<p>364 rows × 2 columns</p>\n",
       "</div>"
      ],
      "text/plain": [
       "               Dólar  Ibovespa\n",
       "Date                          \n",
       "2022-04-05 -0.013613 -0.019748\n",
       "2022-04-06  0.012386 -0.005526\n",
       "2022-04-07  0.013869  0.005363\n",
       "2022-04-08  0.007826 -0.004543\n",
       "2022-04-09  0.000000  0.000000\n",
       "...              ...       ...\n",
       "2023-03-30 -0.005848  0.018862\n",
       "2023-03-31 -0.008083 -0.017654\n",
       "2023-04-01  0.000000  0.000000\n",
       "2023-04-02  0.000000  0.000000\n",
       "2023-04-03 -0.005969 -0.003691\n",
       "\n",
       "[364 rows x 2 columns]"
      ]
     },
     "execution_count": 10,
     "metadata": {},
     "output_type": "execute_result"
    }
   ],
   "source": [
    "retorno_no_ano = dados_fechamento_anual.pct_change().dropna()\n",
    "retorno_no_mes = dados_fechamento_mensal.pct_change().dropna()\n",
    "retorno_no_dia = dados_fechamento_diario.pct_change().dropna()\n",
    "retorno_no_dia\n"
   ]
  },
  {
   "attachments": {},
   "cell_type": "markdown",
   "id": "31d56add",
   "metadata": {},
   "source": [
    "# Passo 5: Localizar o fechamento do dia anterior, retorno no mês e retorno no ano."
   ]
  },
  {
   "cell_type": "code",
   "execution_count": 11,
   "id": "87a8de12",
   "metadata": {},
   "outputs": [
    {
     "data": {
      "text/plain": [
       "Dólar       0.012386\n",
       "Ibovespa   -0.005526\n",
       "Name: 2022-04-06 00:00:00, dtype: float64"
      ]
     },
     "execution_count": 11,
     "metadata": {},
     "output_type": "execute_result"
    }
   ],
   "source": [
    "retorno_no_dia.loc['2022-04-06']"
   ]
  },
  {
   "cell_type": "code",
   "execution_count": 88,
   "id": "fd25c0b5",
   "metadata": {},
   "outputs": [
    {
     "data": {
      "text/plain": [
       "-0.011363376385578161"
      ]
     },
     "execution_count": 88,
     "metadata": {},
     "output_type": "execute_result"
    }
   ],
   "source": [
    "retorno_no_dia.iloc[4, 0]"
   ]
  },
  {
   "cell_type": "code",
   "execution_count": 13,
   "id": "af4910c6",
   "metadata": {},
   "outputs": [
    {
     "data": {
      "text/plain": [
       "-0.005969289241384401"
      ]
     },
     "execution_count": 13,
     "metadata": {},
     "output_type": "execute_result"
    }
   ],
   "source": [
    "retorno_dia_dolar = retorno_no_dia.iloc[-1, 0]\n",
    "retorno_dia_ibov = retorno_no_dia.iloc[-1, -1]\n",
    "\n",
    "retorno_mensal_dolar = retorno_no_mes.iloc[-1, 0]\n",
    "retorno_mensal_ibov = retorno_no_mes.iloc[-1, -1]\n",
    "\n",
    "retorno_anual_dolar = retorno_no_ano.iloc[-1, 0]\n",
    "retorno_anual_ibov = retorno_no_ano.iloc[-1, -1]\n",
    "\n",
    "retorno_dia_dolar"
   ]
  },
  {
   "cell_type": "code",
   "execution_count": 14,
   "id": "9bb21bac",
   "metadata": {},
   "outputs": [
    {
     "data": {
      "text/plain": [
       "-0.6"
      ]
     },
     "execution_count": 14,
     "metadata": {},
     "output_type": "execute_result"
    }
   ],
   "source": [
    "retorno_dia_dolar = round(retorno_dia_dolar * 100, 2)\n",
    "retorno_dia_ibov = round(retorno_dia_ibov * 100, 2)\n",
    "\n",
    "retorno_mensal_dolar = round(retorno_mensal_dolar * 100, 2)\n",
    "retorno_mensal_ibov = round(retorno_mensal_ibov * 100, 2)\n",
    "\n",
    "retorno_anual_dolar = round(retorno_anual_dolar * 100, 2)\n",
    "retorno_anual_ibov = round(retorno_anual_ibov * 100, 2)\n",
    "\n",
    "retorno_dia_dolar"
   ]
  },
  {
   "attachments": {},
   "cell_type": "markdown",
   "id": "56e92290",
   "metadata": {},
   "source": [
    "# Passo 6: Fazer os gŕaficos da performance do último dos ativos"
   ]
  },
  {
   "cell_type": "code",
   "execution_count": 15,
   "id": "c0101cfe",
   "metadata": {},
   "outputs": [
    {
     "data": {
      "image/png": "[encoded data removed]",
      "text/plain": [
       "<Figure size 640x480 with 1 Axes>"
      ]
     },
     "metadata": {},
     "output_type": "display_data"
    }
   ],
   "source": [
    "plt.style.use('cyberpunk')\n",
    "\n",
    "dados_fechamento.plot(y = 'Ibovespa', use_index = True, marker='o', legend = False)\n",
    "\n",
    "plt.title('Ibovespa')\n",
    "plt.xlabel('')\n",
    "plt.savefig('ibovespa.png', dpi = 300)\n",
    "\n",
    "plt.show()"
   ]
  },
  {
   "cell_type": "code",
   "execution_count": 16,
   "id": "06b25962",
   "metadata": {
    "scrolled": false
   },
   "outputs": [
    {
     "data": {
      "image/png": "[encoded data removed]",
      "text/plain": [
       "<Figure size 640x480 with 1 Axes>"
      ]
     },
     "metadata": {},
     "output_type": "display_data"
    }
   ],
   "source": [
    "plt.style.use('cyberpunk')\n",
    "\n",
    "dados_fechamento.plot(y = 'Dólar', use_index = True, marker='o', legend = False)\n",
    "\n",
    "plt.title('Dólar')\n",
    "plt.xlabel('')\n",
    "plt.savefig('dolar.png', dpi = 300)\n",
    "\n",
    "plt.show()"
   ]
  },
  {
   "attachments": {},
   "cell_type": "markdown",
   "id": "28787285",
   "metadata": {},
   "source": [
    "# Passo 7: Enviar e-mail\n",
    "https://myaccount.google.com/apppasswords"
   ]
  },
  {
   "cell_type": "code",
   "execution_count": 19,
   "id": "30ec370f",
   "metadata": {},
   "outputs": [],
   "source": [
    "import os\n",
    "from dotenv import load_dotenv"
   ]
  },
  {
   "cell_type": "code",
   "execution_count": 20,
   "id": "32ec3994",
   "metadata": {},
   "outputs": [
    {
     "data": {
      "text/plain": [
       "True"
      ]
     },
     "execution_count": 20,
     "metadata": {},
     "output_type": "execute_result"
    }
   ],
   "source": [
    "load_dotenv()"
   ]
  },
  {
   "cell_type": "code",
   "execution_count": 24,
   "id": "47457426",
   "metadata": {},
   "outputs": [],
   "source": [
    "senha = os.environ.get('senha')\n",
    "email = 'rsdcruz97@gmail.com'"
   ]
  },
  {
   "cell_type": "code",
   "execution_count": 27,
   "id": "33055679",
   "metadata": {},
   "outputs": [],
   "source": [
    "msg = EmailMessage()\n",
    "msg['Subject'] = 'Enviando e-mail com o Python'\n",
    "msg['From'] = 'rsdcruz97@gmail.com'\n",
    "msg['To'] = 'brenno@varos.com.br'\n",
    "\n",
    "msg.set_content(f''' Prezado diretor, segue o relatório diário:\n",
    "\n",
    "Bolsa: \n",
    "\n",
    "No ano o Ibovespa está tendo uma rentabilidade de {retorno_anual_ibov}%, \n",
    "enquanto no mês a rentabilidade é de {retorno_mensal_ibov}%\n",
    "\n",
    "No último dia útil, o fechamento do Ibovespa foi de {retorno_dia_ibov}%.\n",
    "\n",
    "\n",
    "Dólar:\n",
    "\n",
    "No ano o Dólar está tendo uma rentabilidade de {retorno_anual_dolar}%,\n",
    "enquanto no mês a rentabilidade é de {retorno_mensal_dolar}%\n",
    "\n",
    "No último dia útil, o fechamento do Dólar foi de {retorno_dia_dolar}%.\n",
    "\n",
    "\n",
    "Abs, \n",
    "\n",
    "o melhor estudante de Python da Galaxia\n",
    "\n",
    "Segue o link do codigo no GitHub: https://github.com/raphaelsoaresc/email-automatizado-python\n",
    "... ''')"
   ]
  },
  {
   "cell_type": "code",
   "execution_count": 28,
   "id": "81089216",
   "metadata": {},
   "outputs": [],
   "source": [
    "with open('dolar.png', 'rb') as content_file:\n",
    "    content = content_file.read()\n",
    "    msg.add_attachment(content, maintype='application', subtype='png', filename='dolar.png')\n",
    "    \n",
    "with open('ibovespa.png', 'rb') as content_file:\n",
    "    content = content_file.read()\n",
    "    msg.add_attachment(content, maintype='application', subtype='png', filename='dolar.png')"
   ]
  },
  {
   "cell_type": "code",
   "execution_count": null,
   "id": "5bca1c41",
   "metadata": {},
   "outputs": [],
   "source": [
    "with smtplib.SMTP_SSL('smtp.gmail.com', 465) as smtp:\n",
    "    \n",
    "    smtp.login('rsdcruz97@gmail.com', senha)\n",
    "    smtp.send_message(msg)"
   ]
  },
  {
   "cell_type": "code",
   "execution_count": null,
   "id": "12e143e6",
   "metadata": {},
   "outputs": [],
   "source": []
  }
 ],
 "metadata": {
  "kernelspec": {
   "display_name": "Python 3 (ipykernel)",
   "language": "python",
   "name": "python3"
  },
  "language_info": {
   "codemirror_mode": {
    "name": "ipython",
    "version": 3
   },
   "file_extension": ".py",
   "mimetype": "text/x-python",
   "name": "python",
   "nbconvert_exporter": "python",
   "pygments_lexer": "ipython3",
   "version": "3.9.2"
  }
 },
 "nbformat": 4,
 "nbformat_minor": 5
}
